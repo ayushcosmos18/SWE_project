{
 "cells": [
  {
   "cell_type": "code",
   "execution_count": 1,
   "id": "0f33e74c-2e40-47b1-93f5-320521972ee2",
   "metadata": {},
   "outputs": [
    {
     "name": "stdout",
     "output_type": "stream",
     "text": [
      "Requirement already satisfied: pandas in c:\\users\\ayush\\appdata\\local\\programs\\python\\python38\\lib\\site-packages (2.0.3)\n",
      "Requirement already satisfied: python-dateutil>=2.8.2 in c:\\users\\ayush\\appdata\\local\\programs\\python\\python38\\lib\\site-packages (from pandas) (2.8.2)\n",
      "Requirement already satisfied: numpy>=1.20.3 in c:\\users\\ayush\\appdata\\local\\programs\\python\\python38\\lib\\site-packages (from pandas) (1.24.2)\n",
      "Requirement already satisfied: pytz>=2020.1 in c:\\users\\ayush\\appdata\\local\\programs\\python\\python38\\lib\\site-packages (from pandas) (2023.3.post1)\n",
      "Requirement already satisfied: tzdata>=2022.1 in c:\\users\\ayush\\appdata\\local\\programs\\python\\python38\\lib\\site-packages (from pandas) (2024.1)\n",
      "Requirement already satisfied: six>=1.5 in c:\\users\\ayush\\appdata\\local\\programs\\python\\python38\\lib\\site-packages (from python-dateutil>=2.8.2->pandas) (1.16.0)\n",
      "Note: you may need to restart the kernel to use updated packages.\n"
     ]
    },
    {
     "name": "stderr",
     "output_type": "stream",
     "text": [
      "WARNING: You are using pip version 21.1.1; however, version 24.0 is available.\n",
      "You should consider upgrading via the 'c:\\users\\ayush\\appdata\\local\\programs\\python\\python38\\python.exe -m pip install --upgrade pip' command.\n"
     ]
    }
   ],
   "source": [
    "pip install pandas"
   ]
  },
  {
   "cell_type": "code",
   "execution_count": 2,
   "id": "0d3cc95c-6400-4655-ad54-39abacef226d",
   "metadata": {},
   "outputs": [],
   "source": [
    "from tkinter import *\n",
    "from tkinter import messagebox\n",
    "from PIL import Image,ImageTk\n",
    "import random\n",
    "import subprocess\n",
    "import pandas as pd \n",
    "import numpy as np \n",
    "import pickle \n",
    "\n",
    "import mediapipe as mp\n",
    "import cv2\n",
    "from PIL import Image, ImageTk \n",
    "\n",
    "from landmarks import landmarks"
   ]
  },
  {
   "cell_type": "code",
   "execution_count": 3,
   "id": "08e17aa1-345d-4d74-bb27-4041eca7125a",
   "metadata": {},
   "outputs": [],
   "source": [
    "import customtkinter as ck "
   ]
  },
  {
   "cell_type": "code",
   "execution_count": 4,
   "id": "5909bac9-b95d-4bc2-9387-c166c2899a23",
   "metadata": {},
   "outputs": [],
   "source": [
    "image_paths = ['Can.png', 'Can2.png']\n",
    "image_path = random.choice(image_paths)\n",
    "\n",
    "\n",
    "pil_image=Image.open(image_path)"
   ]
  },
  {
   "cell_type": "code",
   "execution_count": 9,
   "id": "1a5492b2-8f23-4390-9b30-deee9eacd8a4",
   "metadata": {},
   "outputs": [],
   "source": [
    "from tkinter import *\n",
    "from tkinter import messagebox\n",
    "from PIL import Image, ImageTk\n",
    "import random\n",
    "import subprocess\n",
    "\n",
    "# Create the Tkinter window\n",
    "root = Tk()\n",
    "root.title('Login')\n",
    "\n",
    "# Get screen width and height\n",
    "screen_width = root.winfo_screenwidth()\n",
    "screen_height = root.winfo_screenheight()\n",
    "\n",
    "# Set full screen geometry\n",
    "root.geometry(f'{screen_width}x{screen_height}+0+0')\n",
    "\n",
    "# Set background color\n",
    "root.configure(bg='#fff')\n",
    "root.resizable(False, False)\n",
    "\n",
    "# Function to handle sign-in\n",
    "def signin():\n",
    "    username = user.get()\n",
    "    password = code.get()\n",
    "\n",
    "    if username == 'admin' and password == '1234':\n",
    "        # Launch subprocess or open another application\n",
    "        subprocess.Popen([\"python\", \"app.py\"])\n",
    "        root.destroy()\n",
    "    else:\n",
    "        # Show error messages for invalid credentials\n",
    "        if username != 'admin':\n",
    "            messagebox.showerror(\"Invalid\", \"Invalid username\")\n",
    "        if password != '1234':\n",
    "            messagebox.showerror(\"Invalid\", \"Invalid password\")\n",
    "\n",
    "# Randomly choose an image\n",
    "image_paths = ['Can.png', 'Can2.png']\n",
    "image_path = random.choice(image_paths)\n",
    "pil_image = Image.open(image_path)\n",
    "\n",
    "# Display the image on the left side of the window\n",
    "img = ImageTk.PhotoImage(pil_image)\n",
    "Label(root, image=img, bg='white').place(x=25, y=100)\n",
    "\n",
    "# Create a frame for the login form on the right side\n",
    "frame = Frame(root, width=screen_width//2, height=screen_height-150, bg=\"white\")\n",
    "frame.place(x=screen_width//2, y=70, anchor='n')\n",
    "\n",
    "# Heading for the login form\n",
    "heading = Label(frame, text='Sign in', fg='#57a1f8', bg='white', font=('Microsoft YaHei UI Light', 23, 'bold'))\n",
    "heading.place(relx=0.5, rely=0.05, anchor='n')\n",
    "\n",
    "# Entry widgets for username and password\n",
    "user = Entry(frame, width=25, fg='black', border=0, bg=\"white\", font=('Microsoft YaHei UI Light', 11))\n",
    "user.place(relx=0.5, rely=0.25, anchor='n')\n",
    "user.insert(0, 'Username')\n",
    "\n",
    "code = Entry(frame, width=25, fg='black', border=0, bg=\"white\", font=('Microsoft YaHei UI Light', 11))\n",
    "code.place(relx=0.5, rely=0.38, anchor='n')\n",
    "code.insert(0, 'Password')\n",
    "code.config(show=\"*\")  # Mask the password entry\n",
    "\n",
    "# Sign-in button\n",
    "Button(frame, width=39, pady=7, text='Sign in', bg='#57a1f8', fg='white', border=0, command=signin)\\\n",
    "    .place(relx=0.5, rely=0.52, anchor='n')\n",
    "\n",
    "# Label for sign-up option\n",
    "Label(frame, text=\"Don't have an account?\", fg='black', bg='white', font=('Microsoft YaHei UI Light', 9))\\\n",
    "    .place(relx=0.5, rely=0.68, anchor='n')\n",
    "\n",
    "# Sign-up button\n",
    "Button(frame, width=6, text='Sign up', border=0, bg='white', cursor='hand2', fg='#57a1f8')\\\n",
    "    .place(relx=0.75, rely=0.68, anchor='n')\n",
    "\n",
    "# Function to delete placeholder text on entry focus\n",
    "def on_enter(e):\n",
    "    if user.get() == 'Username':\n",
    "        user.delete(0, 'end')\n",
    "\n",
    "def on_leave(e):\n",
    "    if user.get() == '':\n",
    "        user.insert(0, 'Username')\n",
    "\n",
    "def on_enter1(e):\n",
    "    if code.get() == 'Password':\n",
    "        code.delete(0, 'end')\n",
    "\n",
    "def on_leave1(e):\n",
    "    if code.get() == '':\n",
    "        code.insert(0, 'Password')\n",
    "\n",
    "# Bind entry widgets to functions\n",
    "user.bind('<FocusIn>', on_enter)\n",
    "user.bind('<FocusOut>', on_leave)\n",
    "\n",
    "code.bind('<FocusIn>', on_enter1)\n",
    "code.bind('<FocusOut>', on_leave1)\n",
    "\n",
    "root.mainloop()\n"
   ]
  },
  {
   "cell_type": "code",
   "execution_count": null,
   "id": "482d4111-46da-439c-b32c-6d5a15abdc0d",
   "metadata": {},
   "outputs": [],
   "source": []
  },
  {
   "cell_type": "code",
   "execution_count": null,
   "id": "bb4312c1-c909-481f-88ea-ab495e4afa04",
   "metadata": {},
   "outputs": [],
   "source": []
  }
 ],
 "metadata": {
  "kernelspec": {
   "display_name": "Python 3 (ipykernel)",
   "language": "python",
   "name": "python3"
  },
  "language_info": {
   "codemirror_mode": {
    "name": "ipython",
    "version": 3
   },
   "file_extension": ".py",
   "mimetype": "text/x-python",
   "name": "python",
   "nbconvert_exporter": "python",
   "pygments_lexer": "ipython3",
   "version": "3.8.10"
  }
 },
 "nbformat": 4,
 "nbformat_minor": 5
}
